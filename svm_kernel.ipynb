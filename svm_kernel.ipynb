{
 "cells": [
  {
   "cell_type": "markdown",
   "metadata": {},
   "source": [
    "1"
   ]
  },
  {
   "cell_type": "code",
   "execution_count": 2,
   "metadata": {},
   "outputs": [],
   "source": [
    "import pandas as pd\n",
    "import numpy as np\n",
    "from sklearn.preprocessing import StandardScaler\n",
    "from sklearn.model_selection import train_test_split\n",
    "from sklearn.metrics import accuracy_score, precision_score, recall_score, f1_score, confusion_matrix, ConfusionMatrixDisplay\n",
    "from imblearn.over_sampling import SMOTE\n",
    "# from imblearn.under_sampling import RandomUnderSampler\n",
    "# from imblearn.combine import SMOTETomek\n",
    "from cvxopt import matrix, solvers\n",
    "import matplotlib.pyplot as plt\n",
    "from sklearn.svm import SVC\n",
    "# from joblib import Parallel, delayed"
   ]
  },
  {
   "cell_type": "markdown",
   "metadata": {},
   "source": [
    "2"
   ]
  },
  {
   "cell_type": "code",
   "execution_count": 3,
   "metadata": {},
   "outputs": [],
   "source": [
    "# ===== 1. Đọc dữ liệu =====\n",
    "df_sample = pd.read_csv(\"online_shoppers_intention.csv\")"
   ]
  },
  {
   "cell_type": "code",
   "execution_count": 4,
   "metadata": {},
   "outputs": [],
   "source": [
    "df = df_sample.sample(frac = 1, random_state = 42)"
   ]
  },
  {
   "cell_type": "markdown",
   "metadata": {},
   "source": [
    "3\n"
   ]
  },
  {
   "cell_type": "code",
   "execution_count": 5,
   "metadata": {},
   "outputs": [
    {
     "name": "stdout",
     "output_type": "stream",
     "text": [
      "<class 'pandas.core.frame.DataFrame'>\n",
      "Index: 12330 entries, 8916 to 7270\n",
      "Data columns (total 18 columns):\n",
      " #   Column                   Non-Null Count  Dtype  \n",
      "---  ------                   --------------  -----  \n",
      " 0   Administrative           12330 non-null  int64  \n",
      " 1   Administrative_Duration  12330 non-null  float64\n",
      " 2   Informational            12330 non-null  int64  \n",
      " 3   Informational_Duration   12330 non-null  float64\n",
      " 4   ProductRelated           12330 non-null  int64  \n",
      " 5   ProductRelated_Duration  12330 non-null  float64\n",
      " 6   BounceRates              12330 non-null  float64\n",
      " 7   ExitRates                12330 non-null  float64\n",
      " 8   PageValues               12330 non-null  float64\n",
      " 9   SpecialDay               12330 non-null  float64\n",
      " 10  Month                    12330 non-null  object \n",
      " 11  OperatingSystems         12330 non-null  int64  \n",
      " 12  Browser                  12330 non-null  int64  \n",
      " 13  Region                   12330 non-null  int64  \n",
      " 14  TrafficType              12330 non-null  int64  \n",
      " 15  VisitorType              12330 non-null  object \n",
      " 16  Weekend                  12330 non-null  bool   \n",
      " 17  Revenue                  12330 non-null  bool   \n",
      "dtypes: bool(2), float64(7), int64(7), object(2)\n",
      "memory usage: 1.6+ MB\n"
     ]
    }
   ],
   "source": [
    "df.info()"
   ]
  },
  {
   "cell_type": "code",
   "execution_count": 6,
   "metadata": {},
   "outputs": [],
   "source": [
    "df['Revenue'] = df['Revenue'].map({True: 1, False: -1})\n",
    "\n",
    "# ===== 3. One-hot encoding =====\n",
    "df = pd.get_dummies(df, columns=['Month', 'VisitorType', 'Weekend'], drop_first=True)\n",
    "\n",
    "# month_map = {\n",
    "#     'Jan': 1,\n",
    "#     'Feb': 2,\n",
    "#     'Mar': 3,\n",
    "#     'Apr': 4,\n",
    "#     'May': 5,\n",
    "#     'June': 6,\n",
    "#     'Jul': 7,\n",
    "#     'Aug': 8,\n",
    "#     'Sep': 9,\n",
    "#     'Oct': 10,\n",
    "#     'Nov': 11,\n",
    "#     'Dec': 12\n",
    "# }\n",
    "\n",
    "# df = pd.get_dummies(df, columns=['VisitorType'],dtype = int)\n",
    "# df['Month'] = df['Month'].map(month_map)\n",
    "# df['Weekend'] = df['Weekend'].astype(bool).astype(int)\n",
    "# # df['Revenue'] = df['Revenue'].astype(bool).astype(int)\n",
    "\n",
    "# ===== 4. Xử lý missing value =====\n",
    "df = df.dropna()\n",
    "\n",
    "# ===== 5. Tách đặc trưng và nhãn =====\n",
    "X = df.drop('Revenue', axis=1).values\n",
    "y = df['Revenue'].values.astype(float)\n"
   ]
  },
  {
   "cell_type": "code",
   "execution_count": 6,
   "metadata": {},
   "outputs": [],
   "source": [
    "# print(df['Revenue'].value_counts())\n",
    "# df.describe()"
   ]
  },
  {
   "cell_type": "code",
   "execution_count": 7,
   "metadata": {},
   "outputs": [],
   "source": [
    "# ===== 6. Train/Test split =====\n",
    "X_train, X_test, y_train, y_test = train_test_split(X, y, test_size=0.2, random_state=42)\n",
    "\n",
    "# ===== 7. Chuẩn hóa =====\n",
    "scaler = StandardScaler()\n",
    "X_train = scaler.fit_transform(X_train)\n",
    "X_test = scaler.transform(X_test)"
   ]
  },
  {
   "cell_type": "code",
   "execution_count": 8,
   "metadata": {},
   "outputs": [
    {
     "name": "stdout",
     "output_type": "stream",
     "text": [
      "-1.0    8297\n",
      " 1.0    8297\n",
      "Name: count, dtype: int64\n"
     ]
    }
   ],
   "source": [
    "# ===== 8. RBF Kernel =====\n",
    "\n",
    "\n",
    "# def rbf_kernel(x1, x2, sigma=1.0):\n",
    "#     return np.exp(-np.linalg.norm(x1 - x2) ** 2 / (2 * sigma ** 2))\n",
    "\n",
    "\n",
    "# def rbf_cal(a, b):\n",
    "#     size_a = a.shape[0]\n",
    "#     size_b = b.shape[0]\n",
    "#     K = np.zeros((size_a, size_b))\n",
    "#     for i in range(size_a):\n",
    "#         for j in range(size_b):\n",
    "#             K[i, j] = rbf_kernel(a[i], b[j])\n",
    "#     return K\n",
    "def rbf_cal(a, b, gamma):\n",
    "    # Tính ||x - y||^2 = ||x||^2 + ||y||^2 - 2 x^T y\n",
    "    a_norm = np.sum(a ** 2, axis=1).reshape(-1, 1)  # (n_samples_a, 1)\n",
    "    b_norm = np.sum(b ** 2, axis=1).reshape(1, -1)  # (1, n_samples_b)\n",
    "    K = np.exp(-(a_norm + b_norm - 2 * np.dot(a, b.T))*gamma)\n",
    "    return K\n",
    "# def rbf_cal(a, b, gamma, degree=3, coef0=1):\n",
    "#     K = (np.dot(a, b.T)*gamma + coef0) ** degree\n",
    "#     return K\n",
    "\n",
    "\n",
    "# def rbf_cal(a, b, sigma=1.0):\n",
    "#     # Tính ||x - y||^2 = ||x||^2 + ||y||^2 - 2 x^T y\n",
    "#     a_norm = np.sum(a ** 2, axis=1).reshape(-1, 1)  # (n_samples_a, 1)\n",
    "#     b_norm = np.sum(b ** 2, axis=1).reshape(1, -1)  # (1, n_samples_b)\n",
    "#     K = np.exp(-(a_norm + b_norm - 2 * np.dot(a, b.T)) / (2 * sigma ** 2))\n",
    "#     return K\n",
    "\n",
    "# # Chia dữ liệu\n",
    "# X_train, X_test, y_train, y_test = train_test_split(X, y, test_size=0.2)\n",
    "# smotetomek = SMOTETomek(random_state=42, sampling_strategy='all')\n",
    "# X_resampled, y_resampled = smotetomek.fit_resample(X_train, y_train)\n",
    "# Áp dụng SMOTE\n",
    "smote = SMOTE(random_state=42)\n",
    "X_resampled, y_resampled = smote.fit_resample(X_train, y_train)\n",
    "# ros = RandomOverSampler()\n",
    "# X_resampled, y_resampled = ros.fit_resample(X_train, y_train)\n",
    "# rus = RandomUnderSampler()\n",
    "# X_resampled, y_resampled = rus.fit_resample(X_train, y_train)\n",
    "# X_resampled = X_train\n",
    "# y_resampled = y_train \n",
    "\n",
    "\n",
    "print(pd.Series(y_resampled).value_counts())\n",
    "\n",
    "# print(\"Các nhãn sau khi SMOTE:\", np.unique(y_resampled))\n",
    "# print(\"Các nhãn sau khi SMOTE:\", np.unique(y_test))"
   ]
  },
  {
   "cell_type": "code",
   "execution_count": 9,
   "metadata": {},
   "outputs": [],
   "source": [
    "# ===== 9. Tính ma trận Gram (train) =====\n",
    "n_samples = X_resampled.shape[0]\n",
    "gamma = 1/X_resampled.shape[1]\n",
    "# K = np.zeros((n_samples, n_samples))\n",
    "# for i in range(n_samples):\n",
    "#     for j in range(n_samples):\n",
    "#         K[i, j] = rbf_kernel(X_resampled[i], X_resampled[j])\n",
    "        \n",
    "K = rbf_cal(X_resampled, X_resampled, gamma)"
   ]
  },
  {
   "cell_type": "code",
   "execution_count": 10,
   "metadata": {},
   "outputs": [],
   "source": [
    "\n",
    "\n",
    "# ===== 10. QP input =====\n",
    "C = 1.0 # Regularization parameter\n",
    "P = matrix(np.outer(y_resampled, y_resampled) * K) #ok check roi\n",
    "q = matrix(-np.ones(n_samples)) #ok check roi\n",
    "G = matrix(np.vstack([-np.eye(n_samples), np.eye(n_samples)])) #ok check roi\n",
    "h = matrix(np.hstack([np.zeros(n_samples), np.ones(n_samples) * C])) #ok check roi\n",
    "A = matrix(y_resampled.reshape(1, -1)) #ok check roi\n",
    "b = matrix(0.0) #0.0 hay la 0\n",
    "#b = matrix(np.zeros(1)) #ok check roi\n",
    "\n"
   ]
  },
  {
   "cell_type": "code",
   "execution_count": 11,
   "metadata": {},
   "outputs": [],
   "source": [
    "# ===== 11. Solve QP =====\n",
    "solvers.options['show_progress'] = False #chua biet\n",
    "# solvers.options['abstol'] = 1e-10\n",
    "# solvers.options['reltol'] = 1e-10 #chua biet\n",
    "# solvers.options['feastol'] = 1e-10 #chua biet\n",
    "solvers.options['abstol'] = 1e-5\n",
    "solvers.options['reltol'] = 1e-5\n",
    "solvers.options['feastol'] = 1e-7\n",
    "\n",
    "\n",
    "sol = solvers.qp(P, q, G, h, A, b)\n",
    "# print(\"số lượng sol:\", len(sol))\n",
    "# print(sol)\n",
    "alphas = np.ravel(sol['x']) #ok check roi\n",
    "# print(\"số lượng alpha:\", len(alphas))"
   ]
  },
  {
   "cell_type": "code",
   "execution_count": 12,
   "metadata": {},
   "outputs": [],
   "source": [
    "# ===== 12. Support vectors =====\n",
    "threshold = 1e-5\n",
    "sv = (alphas > threshold) & (alphas <= C)\n",
    "sv_X = X_resampled[sv] #support vectors\n",
    "sv_y = y_resampled[sv]\n",
    "sv_alpha = alphas[sv]\n",
    "# print(\"SV:\", sv)\n",
    "\n",
    "# 2. Xác định các Margin Vectors (0 < alpha_i < C)\n",
    "margin_mask = (alphas > threshold) & (alphas < C - threshold)\n",
    "margin_X = X_resampled[margin_mask]\n",
    "margin_y = y_resampled[margin_mask]\n",
    "# print(\"Số lượng support vectors:\", len(sv_X))\n",
    "# print(\"Giá trị alphas của SV:\", sv_alpha)\n",
    "# print(\"số lượng alphas của SV:\", len(sv_alpha))\n",
    "# print(\"Nhãn của SV:\", np.unique(sv_y))"
   ]
  },
  {
   "cell_type": "code",
   "execution_count": 13,
   "metadata": {},
   "outputs": [
    {
     "name": "stdout",
     "output_type": "stream",
     "text": [
      " Evaluation on Test Set:\n",
      "Accuracy : 0.8548\n",
      "Precision: 0.4667\n",
      "Recall   : 0.3490\n",
      "F1 Score : 0.3993\n"
     ]
    },
    {
     "data": {
      "image/png": "[encoded data removed]",
      "text/plain": [
       "<Figure size 640x480 with 2 Axes>"
      ]
     },
     "metadata": {},
     "output_type": "display_data"
    }
   ],
   "source": [
    "\n",
    "\n",
    "\n",
    "\n",
    "\n",
    "\n",
    "if len(margin_X) > 0:\n",
    "    # print(\"bbbbbbbbbbbbbbbbbbbb\")\n",
    "    # K_ms = rbf_kernel(margin_X, sv_X, sigma=1.0)\n",
    "    K_ms = rbf_cal(margin_X, sv_X)\n",
    "    # Tính b cho các Margin Vectors\n",
    "    a_s = sv_alpha * sv_y\n",
    "    b = np.dot((margin_y - np.dot(K_ms, a_s)).T, np.ones(len(margin_X))) / len(margin_X)\n",
    "else:\n",
    "    # print(\"aaaaaaaaaaaaaaaaaaaaaaaa\")\n",
    "    # Fallback nếu không có margin vectors #can xem lai\n",
    "    N = rbf_cal(sv_X[0:1], sv_X)\n",
    "    a_s = sv_alpha * sv_y\n",
    "    b = sv_y[0] - np.dot(N, a_s)[0]\n",
    "    # b = sv_y[0] - np.dot(rbf_kernel(sv_X[0:1], sv_X, sigma=sigma), a_s)[0]\n",
    "\n",
    "# ===== 13. Dự đoán =====\n",
    "# hàm projext này bị sai, chạy ra kết quả có = 0\n",
    "def project(x):\n",
    "    x = np.asarray(x)\n",
    "    if x.ndim == 1:\n",
    "        x = x.reshape(1, -1)\n",
    "    # Tính K_bs: kernel giữa x và các support vectors\n",
    "    K_bs = rbf_cal(x, sv_X)\n",
    "    # K_bs = rbf_kernel(x, sv_X, sigma=1.0)\n",
    "    \n",
    "    # Tính y = K_bs * a_s + b\n",
    "    # print(\"Đây là b:\", np.unique(b))\n",
    "    y = np.dot(K_bs, sv_alpha * sv_y) + b\n",
    "    # Trả về mảng 1D\n",
    "    # print(\"Các nhãn sau khi SMOTE:\", np.unique(y))\n",
    "    return y.ravel()\n",
    "    # return y\n",
    "    # return y[0]  # Trả về giá trị scalar nếu input là 1 điểm\n",
    "\n",
    "def predict(X_test):\n",
    "    # return np.sign([project(x) for x in X_test])\n",
    "    return np.sign(project(X_test))\n",
    "    # preds = Parallel(n_jobs=-1)(delayed(project)(x) for x in X_test)\n",
    "    # return np.sign(np.array(preds).ravel())\n",
    "\n",
    "\n",
    "# ===== 14. Dự đoán và đánh giá =====\n",
    "y_pred = predict(X_test)\n",
    "# print(\"Các nhãn sau khi SMOTE:\", np.unique(y_pred))\n",
    "acc = accuracy_score(y_test, y_pred)\n",
    "prec = precision_score(y_test, y_pred, pos_label=1)\n",
    "rec = recall_score(y_test, y_pred, pos_label=1)\n",
    "f1 = f1_score(y_test, y_pred, pos_label=1)\n",
    "\n",
    "# print(pd.Series(y_test).value_counts())\n",
    "print(f\" Evaluation on Test Set:\")\n",
    "print(f\"Accuracy : {acc:.4f}\")\n",
    "print(f\"Precision: {prec:.4f}\")\n",
    "print(f\"Recall   : {rec:.4f}\")\n",
    "print(f\"F1 Score : {f1:.4f}\")\n",
    "\n",
    "# ===== 15. Confusion Matrix =====\n",
    "cm = confusion_matrix(y_test, y_pred, labels=[1, -1])\n",
    "disp = ConfusionMatrixDisplay(confusion_matrix=cm, display_labels=[\"Revenue=True\", \"Revenue=False\"])\n",
    "disp.plot()\n",
    "plt.title(\"Confusion Matrix - SVM with RBF Kernel\")\n",
    "plt.show()\n"
   ]
  },
  {
   "cell_type": "code",
   "execution_count": 11,
   "metadata": {},
   "outputs": [
    {
     "name": "stdout",
     "output_type": "stream",
     "text": [
      " Evaluation on Test Set:\n",
      "Accuracy : 0.8629\n",
      "Precision: 0.5031\n",
      "Recall   : 0.7126\n",
      "F1 Score : 0.5898\n"
     ]
    },
    {
     "data": {
      "image/png": "[encoded data removed]",
      "text/plain": [
       "<Figure size 640x480 with 2 Axes>"
      ]
     },
     "metadata": {},
     "output_type": "display_data"
    }
   ],
   "source": [
    "model = SVC(C=1.0, kernel='rbf', gamma = gamma)\n",
    "# model = SVC(C=1.0, kernel='poly', degree=3, coef0=1, gamma=gamma)\n",
    "model.fit(X_resampled, y_resampled.reshape(-1,))\n",
    "# model.fit(X_train, y_train.reshape(-1,))\n",
    "\n",
    "y_pre = model.predict(X_test)\n",
    "\n",
    "\n",
    "\n",
    "# print(\"Các nhãn sau khi SMOTE:\", np.unique(y_pre))\n",
    "acu = accuracy_score(y_test, y_pre)\n",
    "preci = precision_score(y_test, y_pre, pos_label=1)\n",
    "reca = recall_score(y_test, y_pre, pos_label=1)\n",
    "f1s = f1_score(y_test, y_pre, pos_label=1)\n",
    "\n",
    "# print(pd.Series(y_resampled).value_counts())\n",
    "# print(pd.Series(y_test).value_counts())\n",
    "print(f\" Evaluation on Test Set:\")\n",
    "print(f\"Accuracy : {acu:.4f}\")\n",
    "print(f\"Precision: {preci:.4f}\")\n",
    "print(f\"Recall   : {reca:.4f}\")\n",
    "print(f\"F1 Score : {f1s:.4f}\")\n",
    "\n",
    "# ===== 15. Confusion Matrix =====\n",
    "cm = confusion_matrix(y_test, y_pre, labels=[1, -1])\n",
    "abc = ConfusionMatrixDisplay(confusion_matrix=cm, display_labels=[\"Revenue=True\", \"Revenue=False\"])\n",
    "abc.plot()\n",
    "plt.title(\"Confusion Matrix - SVM with RBF Kernel\")\n",
    "plt.show()\n"
   ]
  }
 ],
 "metadata": {
  "kernelspec": {
   "display_name": "Python 3",
   "language": "python",
   "name": "python3"
  },
  "language_info": {
   "codemirror_mode": {
    "name": "ipython",
    "version": 3
   },
   "file_extension": ".py",
   "mimetype": "text/x-python",
   "name": "python",
   "nbconvert_exporter": "python",
   "pygments_lexer": "ipython3",
   "version": "3.12.0"
  }
 },
 "nbformat": 4,
 "nbformat_minor": 2
}
