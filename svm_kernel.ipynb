{
 "cells": [
  {
   "cell_type": "markdown",
   "metadata": {},
   "source": [
    "1"
   ]
  },
  {
   "cell_type": "code",
   "execution_count": 1,
   "metadata": {},
   "outputs": [],
   "source": [
    "import pandas as pd\n",
    "import numpy as np\n",
    "from sklearn.preprocessing import StandardScaler\n",
    "from sklearn.model_selection import train_test_split\n",
    "from sklearn.metrics import accuracy_score, precision_score, recall_score, f1_score, confusion_matrix, ConfusionMatrixDisplay\n",
    "from imblearn.over_sampling import SMOTE\n",
    "from cvxopt import matrix, solvers\n",
    "import matplotlib.pyplot as plt\n",
    "from sklearn.svm import SVC"
   ]
  },
  {
   "cell_type": "markdown",
   "metadata": {},
   "source": [
    "2"
   ]
  },
  {
   "cell_type": "code",
   "execution_count": 2,
   "metadata": {},
   "outputs": [],
   "source": [
    "# ===== 1. Đọc dữ liệu =====\n",
    "df_sample = pd.read_csv(\"online_shoppers_intention.csv\")\n",
    "df = df_sample.sample(frac = 0.1, random_state = 42)"
   ]
  },
  {
   "cell_type": "markdown",
   "metadata": {},
   "source": [
    "3\n"
   ]
  },
  {
   "cell_type": "code",
   "execution_count": 3,
   "metadata": {},
   "outputs": [
    {
     "name": "stdout",
     "output_type": "stream",
     "text": [
      "<class 'pandas.core.frame.DataFrame'>\n",
      "Index: 1233 entries, 8916 to 7054\n",
      "Data columns (total 18 columns):\n",
      " #   Column                   Non-Null Count  Dtype  \n",
      "---  ------                   --------------  -----  \n",
      " 0   Administrative           1233 non-null   int64  \n",
      " 1   Administrative_Duration  1233 non-null   float64\n",
      " 2   Informational            1233 non-null   int64  \n",
      " 3   Informational_Duration   1233 non-null   float64\n",
      " 4   ProductRelated           1233 non-null   int64  \n",
      " 5   ProductRelated_Duration  1233 non-null   float64\n",
      " 6   BounceRates              1233 non-null   float64\n",
      " 7   ExitRates                1233 non-null   float64\n",
      " 8   PageValues               1233 non-null   float64\n",
      " 9   SpecialDay               1233 non-null   float64\n",
      " 10  Month                    1233 non-null   object \n",
      " 11  OperatingSystems         1233 non-null   int64  \n",
      " 12  Browser                  1233 non-null   int64  \n",
      " 13  Region                   1233 non-null   int64  \n",
      " 14  TrafficType              1233 non-null   int64  \n",
      " 15  VisitorType              1233 non-null   object \n",
      " 16  Weekend                  1233 non-null   bool   \n",
      " 17  Revenue                  1233 non-null   bool   \n",
      "dtypes: bool(2), float64(7), int64(7), object(2)\n",
      "memory usage: 166.2+ KB\n"
     ]
    }
   ],
   "source": [
    "df.info()"
   ]
  },
  {
   "cell_type": "code",
   "execution_count": 4,
   "metadata": {},
   "outputs": [],
   "source": [
    "df['Revenue'] = df['Revenue'].map({True: 1, False: -1})\n",
    "\n",
    "# ===== 3. One-hot encoding =====\n",
    "df = pd.get_dummies(df, columns=['Month', 'VisitorType', 'Weekend'], drop_first=True)\n",
    "\n",
    "# ===== 4. Xử lý missing value =====\n",
    "df = df.dropna()\n",
    "\n",
    "# ===== 5. Tách đặc trưng và nhãn =====\n",
    "X = df.drop('Revenue', axis=1).values\n",
    "y = df['Revenue'].values.astype(float)\n"
   ]
  },
  {
   "cell_type": "code",
   "execution_count": 5,
   "metadata": {},
   "outputs": [],
   "source": [
    "# ===== 6. Train/Test split =====\n",
    "X_train, X_test, y_train, y_test = train_test_split(X, y, test_size=0.2, random_state=42)\n",
    "\n",
    "# ===== 7. Chuẩn hóa =====\n",
    "scaler = StandardScaler()\n",
    "X_train = scaler.fit_transform(X_train)\n",
    "X_test = scaler.transform(X_test)"
   ]
  },
  {
   "cell_type": "code",
   "execution_count": 6,
   "metadata": {},
   "outputs": [
    {
     "name": "stdout",
     "output_type": "stream",
     "text": [
      "-1.0    820\n",
      " 1.0    820\n",
      "Name: count, dtype: int64\n"
     ]
    }
   ],
   "source": [
    "# ===== 8. RBF Kernel =====\n",
    "def rbf_cal(a, b, gamma):\n",
    "    # Tính ||x - y||^2 = ||x||^2 + ||y||^2 - 2 x^T y\n",
    "    a_norm = np.sum(a ** 2, axis=1).reshape(-1, 1)  # (n_samples_a, 1)\n",
    "    b_norm = np.sum(b ** 2, axis=1).reshape(1, -1)  # (1, n_samples_b)\n",
    "    K = np.exp(-(a_norm + b_norm - 2 * np.dot(a, b.T))*gamma)\n",
    "    return K\n",
    "\n",
    "# Áp dụng SMOTE\n",
    "smote = SMOTE(random_state=42)\n",
    "X_resampled, y_resampled = smote.fit_resample(X_train, y_train)\n",
    "\n",
    "print(pd.Series(y_resampled).value_counts())"
   ]
  },
  {
   "cell_type": "code",
   "execution_count": 7,
   "metadata": {},
   "outputs": [],
   "source": [
    "# ===== 9. Tính ma trận Gram (train) =====\n",
    "n_samples = X_resampled.shape[0]\n",
    "gamma = 1/X_resampled.shape[1]\n",
    "K = rbf_cal(X_resampled, X_resampled, gamma)"
   ]
  },
  {
   "cell_type": "code",
   "execution_count": 8,
   "metadata": {},
   "outputs": [],
   "source": [
    "\n",
    "\n",
    "# ===== 10. QP input =====\n",
    "C = 1.0 # Regularization parameter\n",
    "P = matrix(np.outer(y_resampled, y_resampled) * K)\n",
    "q = matrix(-np.ones(n_samples))\n",
    "G = matrix(np.vstack([-np.eye(n_samples), np.eye(n_samples)])) \n",
    "h = matrix(np.hstack([np.zeros(n_samples), np.ones(n_samples) * C])) \n",
    "A = matrix(y_resampled.reshape(1, -1)) \n",
    "b = matrix(0.0) \n",
    "\n"
   ]
  },
  {
   "cell_type": "code",
   "execution_count": 9,
   "metadata": {},
   "outputs": [],
   "source": [
    "# ===== 11. Solve QP =====\n",
    "solvers.options['show_progress'] = False \n",
    "solvers.options['abstol'] = 1e-5\n",
    "solvers.options['reltol'] = 1e-5\n",
    "solvers.options['feastol'] = 1e-7\n",
    "\n",
    "sol = solvers.qp(P, q, G, h, A, b)\n",
    "alphas = np.ravel(sol['x']) "
   ]
  },
  {
   "cell_type": "code",
   "execution_count": 10,
   "metadata": {},
   "outputs": [],
   "source": [
    "# ===== 12. Support vectors =====\n",
    "threshold = 1e-5\n",
    "sv = (alphas > threshold) & (alphas <= C)\n",
    "sv_X = X_resampled[sv] #support vectors\n",
    "sv_y = y_resampled[sv]\n",
    "sv_alpha = alphas[sv]\n",
    "\n",
    "# 2. Xác định các Margin Vectors (0 < alpha_i < C)\n",
    "margin_mask = (alphas > threshold) & (alphas < C - threshold)\n",
    "margin_X = X_resampled[margin_mask]\n",
    "margin_y = y_resampled[margin_mask]"
   ]
  },
  {
   "cell_type": "code",
   "execution_count": 11,
   "metadata": {},
   "outputs": [
    {
     "name": "stdout",
     "output_type": "stream",
     "text": [
      " Evaluation on Test Set:\n",
      "Accuracy : 0.8421\n",
      "Precision: 0.4839\n",
      "Recall   : 0.8108\n",
      "F1 Score : 0.6061\n"
     ]
    },
    {
     "data": {
      "image/png": "[encoded data removed]",
      "text/plain": [
       "<Figure size 640x480 with 2 Axes>"
      ]
     },
     "metadata": {},
     "output_type": "display_data"
    }
   ],
   "source": [
    "if len(margin_X) > 0:\n",
    "    K_ms = rbf_cal(margin_X, sv_X, gamma)\n",
    "    # Tính b cho các Margin Vectors\n",
    "    a_s = sv_alpha * sv_y\n",
    "    b = np.dot((margin_y - np.dot(K_ms, a_s)).T, np.ones(len(margin_X))) / len(margin_X)\n",
    "else:\n",
    "    N = rbf_cal(sv_X[0:1], sv_X, gamma)\n",
    "    a_s = sv_alpha * sv_y\n",
    "    b = sv_y[0] - np.dot(N, a_s)[0]\n",
    "\n",
    "# ===== 13. Dự đoán =====\n",
    "def project(x):\n",
    "    x = np.asarray(x)\n",
    "    if x.ndim == 1:\n",
    "        x = x.reshape(1, -1)\n",
    "    # Tính K_bs: kernel giữa x và các support vectors\n",
    "    K_bs = rbf_cal(x, sv_X, gamma)\n",
    "    \n",
    "    # Tính y = K_bs * a_s + b\n",
    "    y = np.dot(K_bs, sv_alpha * sv_y) + b\n",
    "    # Trả về mảng 1D\n",
    "    return y.ravel()\n",
    "\n",
    "def predict(X_test):\n",
    "    return np.sign(project(X_test))\n",
    "\n",
    "# ===== 14. Dự đoán và đánh giá =====\n",
    "y_pred = predict(X_test)\n",
    "acc = accuracy_score(y_test, y_pred)\n",
    "prec = precision_score(y_test, y_pred, pos_label=1)\n",
    "rec = recall_score(y_test, y_pred, pos_label=1)\n",
    "f1 = f1_score(y_test, y_pred, pos_label=1)\n",
    "\n",
    "# print(pd.Series(y_test).value_counts())\n",
    "print(f\" Evaluation on Test Set:\")\n",
    "print(f\"Accuracy : {acc:.4f}\")\n",
    "print(f\"Precision: {prec:.4f}\")\n",
    "print(f\"Recall   : {rec:.4f}\")\n",
    "print(f\"F1 Score : {f1:.4f}\")\n",
    "\n",
    "# ===== 15. Confusion Matrix =====\n",
    "cm = confusion_matrix(y_test, y_pred, labels=[1, -1])\n",
    "disp = ConfusionMatrixDisplay(confusion_matrix=cm, display_labels=[\"Revenue=True\", \"Revenue=False\"])\n",
    "disp.plot()\n",
    "plt.title(\"Confusion Matrix - SVM with RBF Kernel\")\n",
    "plt.show()\n"
   ]
  },
  {
   "cell_type": "code",
   "execution_count": 12,
   "metadata": {},
   "outputs": [
    {
     "name": "stdout",
     "output_type": "stream",
     "text": [
      " Evaluation on Test Set:\n",
      "Accuracy : 0.8421\n",
      "Precision: 0.4839\n",
      "Recall   : 0.8108\n",
      "F1 Score : 0.6061\n"
     ]
    },
    {
     "data": {
      "image/png": "[encoded data removed]",
      "text/plain": [
       "<Figure size 640x480 with 2 Axes>"
      ]
     },
     "metadata": {},
     "output_type": "display_data"
    }
   ],
   "source": [
    "model = SVC(C=1.0, kernel='rbf', gamma = gamma)\n",
    "model.fit(X_resampled, y_resampled.reshape(-1,))\n",
    "\n",
    "y_pre = model.predict(X_test)\n",
    "\n",
    "acu = accuracy_score(y_test, y_pre)\n",
    "preci = precision_score(y_test, y_pre, pos_label=1)\n",
    "reca = recall_score(y_test, y_pre, pos_label=1)\n",
    "f1s = f1_score(y_test, y_pre, pos_label=1)\n",
    "\n",
    "print(f\" Evaluation on Test Set:\")\n",
    "print(f\"Accuracy : {acu:.4f}\")\n",
    "print(f\"Precision: {preci:.4f}\")\n",
    "print(f\"Recall   : {reca:.4f}\")\n",
    "print(f\"F1 Score : {f1s:.4f}\")\n",
    "\n",
    "# ===== 15. Confusion Matrix =====\n",
    "cm = confusion_matrix(y_test, y_pre, labels=[1, -1])\n",
    "abc = ConfusionMatrixDisplay(confusion_matrix=cm, display_labels=[\"Revenue=True\", \"Revenue=False\"])\n",
    "abc.plot()\n",
    "plt.title(\"Confusion Matrix - SVM with RBF Kernel\")\n",
    "plt.show()\n"
   ]
  }
 ],
 "metadata": {
  "kernelspec": {
   "display_name": "Python 3",
   "language": "python",
   "name": "python3"
  },
  "language_info": {
   "codemirror_mode": {
    "name": "ipython",
    "version": 3
   },
   "file_extension": ".py",
   "mimetype": "text/x-python",
   "name": "python",
   "nbconvert_exporter": "python",
   "pygments_lexer": "ipython3",
   "version": "3.12.0"
  }
 },
 "nbformat": 4,
 "nbformat_minor": 2
}
